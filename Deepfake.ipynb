{
  "cells": [
    {
      "cell_type": "code",
      "source": [
        "#@title نصب\n",
        "!git clone https://github.com/yaranbarzi/roop\n",
        "%cd roop\n",
        "\n",
        "import os\n",
        "os.environ['TF_FORCE_GPU_ALLOW_GROWTH'] = 'true'\n",
        "os.environ['CUDA_VISIBLE_DEVICES'] = '0'\n",
        "\n",
        "!pip install torch torchvision torchaudio --index-url https://download.pytorch.org/whl/cu118 -q\n",
        "\n",
        "!pip install onnxruntime-gpu -q\n",
        "\n",
        "!pip install numpy opencv-python onnx insightface psutil pillow tqdm -q\n",
        "!pip install customtkinter tkinterdnd2 -q\n",
        "\n",
        "!pip install tensorflow-cpu -q\n",
        "\n",
        "!pip install gfpgan realesrgan basicsr -q\n",
        "!pip install opennsfw2 keras protobuf -q\n",
        "\n",
        "!pip install ipywidgets -q\n",
        "\n",
        "import gc\n",
        "gc.collect()\n",
        "\n",
        "from google.colab import files\n",
        "import ipywidgets as widgets\n",
        "from IPython.display import display, clear_output\n",
        "\n",
        "print(\"✅ Setup complete with Face Enhancer support.\")"
      ],
      "metadata": {
        "cellView": "form",
        "id": "qV-dxNwy1LTj"
      },
      "execution_count": null,
      "outputs": []
    },
    {
      "cell_type": "code",
      "source": [
        "#@title آپلود عکس\n",
        "%cd /content/roop\n",
        "\n",
        "# Clean up previous uploads\n",
        "if os.path.exists(\"source.png\"):\n",
        "    os.remove(\"source.png\")\n",
        "\n",
        "uploaded = files.upload()\n",
        "\n",
        "if uploaded:\n",
        "    # Get the filename of the uploaded file\n",
        "    original_filename = next(iter(uploaded))\n",
        "    # Rename and save it as source.png\n",
        "    os.rename(original_filename, \"source.png\")\n",
        "    print(\"✅ Source image uploaded and saved as 'source.png'\")\n",
        "else:\n",
        "    print(\"❌ No file uploaded.\")"
      ],
      "metadata": {
        "cellView": "form",
        "id": "ELWS7UFV1ebx"
      },
      "execution_count": null,
      "outputs": []
    },
    {
      "cell_type": "code",
      "source": [
        "#@title آپلود ویدیوی هدف\n",
        "%cd /content/roop\n",
        "\n",
        "# Clean up previous uploads\n",
        "if os.path.exists(\"target.mp4\"):\n",
        "    os.remove(\"target.mp4\")\n",
        "\n",
        "uploaded = files.upload()\n",
        "\n",
        "if uploaded:\n",
        "    # Get the filename of the uploaded file\n",
        "    original_filename = next(iter(uploaded))\n",
        "    # Rename and save it as target.mp4\n",
        "    os.rename(original_filename, \"target.mp4\")\n",
        "    print(\"✅ Target video uploaded and saved as 'target.mp4'\")\n",
        "else:\n",
        "    print(\"❌ No file uploaded.\")"
      ],
      "metadata": {
        "cellView": "form",
        "id": "bBIeINwj1kiU"
      },
      "execution_count": null,
      "outputs": []
    },
    {
      "cell_type": "code",
      "source": [
        "#@title اجرای دیپ فیک\n",
        "enable_enhancer = True #@param {type:\"boolean\"}\n",
        "face_selection_mode = \"Swap Default Face (Fastest)\" #@param [\"Swap Default Face (Fastest)\", \"Swap ALL faces in video\", \"Swap a SPECIFIC face\"]\n",
        "specific_face_number = 0 #@param {type:\"number\"}\n",
        "execution_provider = \"CPU (Stable)\" #@param [\"CPU (Stable)\", \"GPU (May crash with CuDNN error)\"]\n",
        "\n",
        "import os\n",
        "from google.colab import files\n",
        "from IPython.display import display, HTML\n",
        "import gc\n",
        "\n",
        "%cd /content/roop\n",
        "gc.collect()\n",
        "\n",
        "# تنظیم execution provider\n",
        "if \"CPU\" in execution_provider:\n",
        "    provider = \"cpu\"\n",
        "    # غیرفعال کردن GPU برای جلوگیری از خطای CuDNN\n",
        "    os.environ['CUDA_VISIBLE_DEVICES'] = ''\n",
        "else:\n",
        "    provider = \"cuda\"\n",
        "    os.environ['CUDA_VISIBLE_DEVICES'] = '0'\n",
        "\n",
        "# ساخت کامند\n",
        "command = (\"python run.py -s 'source.png' -t 'target.mp4' -o 'output.mp4' \"\n",
        "           f\"--execution-provider {provider} \"\n",
        "           \"--keep-fps --output-video-quality 1 --max-memory 8 --output-video-encoder libx264 \")\n",
        "\n",
        "# تنظیم frame processors\n",
        "if enable_enhancer:\n",
        "    command += \"--frame-processor face_swapper face_enhancer \"\n",
        "else:\n",
        "    command += \"--frame-processor face_swapper \"\n",
        "\n",
        "# تنظیمات face selection\n",
        "if \"ALL faces\" in face_selection_mode:\n",
        "    command += \"--many-faces \"\n",
        "elif \"SPECIFIC face\" in face_selection_mode:\n",
        "    command += f\"--reference-face-position {specific_face_number} \"\n",
        "\n",
        "print(\"\"\"Final optimized command to be executed:\"\"\")\n",
        "print(f\"\"\"{command}\"\"\")\n",
        "print(f\"\"\"--- Starting process with {execution_provider}... ---\"\"\")\n",
        "\n",
        "!{command}\n",
        "\n",
        "gc.collect()\n",
        "print(\"\"\"--- Process finished! ---\"\"\")\n",
        "\n",
        "if os.path.exists(\"output.mp4\"):\n",
        "    print(\"\"\"✅ Success! Downloading the final video...\"\"\")\n",
        "    files.download(\"output.mp4\")\n",
        "else:\n",
        "    print(\"\"\"❌ Output file 'output.mp4' not found. Check the logs above for errors.\"\"\")\n",
        "    print(\"Available files:\")\n",
        "    !ls -la *.mp4 *.png"
      ],
      "metadata": {
        "cellView": "form",
        "id": "oAOtoOCB1qnl"
      },
      "execution_count": null,
      "outputs": []
    }
  ],
  "metadata": {
    "accelerator": "GPU",
    "colab": {
      "provenance": [],
      "gpuType": "T4"
    },
    "kernelspec": {
      "display_name": "Python 3",
      "name": "python3"
    },
    "language_info": {
      "name": "python"
    }
  },
  "nbformat": 4,
  "nbformat_minor": 0
}