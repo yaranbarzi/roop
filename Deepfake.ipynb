{
  "cells": [
    {
      "cell_type": "code",
      "source": [
        "#@title نصب\n",
        "!git clone https://github.com/yaranbarzi/roop\n",
        "%cd roop\n",
        "\n",
        "import os\n",
        "os.environ['TF_FORCE_GPU_ALLOW_GROWTH'] = 'true'\n",
        "os.environ['CUDA_VISIBLE_DEVICES'] = '0'\n",
        "\n",
        "!pip install torch==2.0.0 torchvision==0.15.0 --index-url https://download.pytorch.org/whl/cu118 -q\n",
        "!pip install onnxruntime-gpu==1.15.0 -q\n",
        "!pip install tensorflow==2.12.0 -q\n",
        "!pip install numpy==1.24.3 opencv-python==4.8.0.74 onnx==1.14.0 -q\n",
        "!pip install insightface==0.7.3 psutil==5.9.5 pillow==10.0.0 -q\n",
        "!pip install tqdm==4.65.0 protobuf==4.23.4 -q\n",
        "!pip install customtkinter==5.2.0 -q\n",
        "!pip install ipywidgets -q\n",
        "\n",
        "import gc\n",
        "gc.collect()\n",
        "\n",
        "from google.colab import files\n",
        "import ipywidgets as widgets\n",
        "from IPython.display import display, clear_output\n",
        "\n",
        "print(\"✅ Setup complete with compatible versions.\")"
      ],
      "metadata": {
        "cellView": "form",
        "id": "qV-dxNwy1LTj"
      },
      "execution_count": null,
      "outputs": []
    },
    {
      "cell_type": "code",
      "source": [
        "#@title آپلود عکس\n",
        "%cd /content/roop\n",
        "\n",
        "# Clean up previous uploads\n",
        "if os.path.exists(\"source.png\"):\n",
        "    os.remove(\"source.png\")\n",
        "\n",
        "uploaded = files.upload()\n",
        "\n",
        "if uploaded:\n",
        "    # Get the filename of the uploaded file\n",
        "    original_filename = next(iter(uploaded))\n",
        "    # Rename and save it as source.png\n",
        "    os.rename(original_filename, \"source.png\")\n",
        "    print(\"✅ Source image uploaded and saved as 'source.png'\")\n",
        "else:\n",
        "    print(\"❌ No file uploaded.\")"
      ],
      "metadata": {
        "cellView": "form",
        "id": "ELWS7UFV1ebx"
      },
      "execution_count": null,
      "outputs": []
    },
    {
      "cell_type": "code",
      "source": [
        "#@title آپلود ویدیوی هدف\n",
        "%cd /content/roop\n",
        "\n",
        "# Clean up previous uploads\n",
        "if os.path.exists(\"target.mp4\"):\n",
        "    os.remove(\"target.mp4\")\n",
        "\n",
        "uploaded = files.upload()\n",
        "\n",
        "if uploaded:\n",
        "    # Get the filename of the uploaded file\n",
        "    original_filename = next(iter(uploaded))\n",
        "    # Rename and save it as target.mp4\n",
        "    os.rename(original_filename, \"target.mp4\")\n",
        "    print(\"✅ Target video uploaded and saved as 'target.mp4'\")\n",
        "else:\n",
        "    print(\"❌ No file uploaded.\")"
      ],
      "metadata": {
        "cellView": "form",
        "id": "bBIeINwj1kiU"
      },
      "execution_count": null,
      "outputs": []
    },
    {
      "cell_type": "code",
      "source": [
        "#@title اجرای دیپ فیک\n",
        "enable_enhancer = False #@param {type:\"boolean\"}\n",
        "face_selection_mode = \"Swap Default Face (Fastest)\" #@param [\"Swap Default Face (Fastest)\", \"Swap ALL faces in video\", \"Swap a SPECIFIC face\"]\n",
        "specific_face_number = 0 #@param {type:\"number\"}\n",
        "\n",
        "import os\n",
        "from google.colab import files\n",
        "from IPython.display import display, HTML\n",
        "import gc\n",
        "\n",
        "%cd /content/roop\n",
        "gc.collect()\n",
        "\n",
        "# کامند پایه\n",
        "command = (\"python run.py -s 'source.png' -t 'target.mp4' -o 'output.mp4' \"\n",
        "           \"--keep-fps --output-video-quality 1 --execution-provider cuda \"\n",
        "           \"--max-memory 8 --output-video-encoder libx264 \")\n",
        "\n",
        "# frame processor\n",
        "if enable_enhancer:\n",
        "    command += \"--frame-processor face_swapper face_enhancer \"\n",
        "else:\n",
        "    command += \"--frame-processor face_swapper \"\n",
        "\n",
        "# face selection\n",
        "if \"ALL faces\" in face_selection_mode:\n",
        "    command += \"--many-faces \"\n",
        "elif \"SPECIFIC face\" in face_selection_mode:\n",
        "    command += f\"--reference-face-position {specific_face_number} \"\n",
        "\n",
        "print(\"\"\"Final optimized command to be executed:\"\"\")\n",
        "print(f\"\"\"{command}\"\"\")\n",
        "print(\"\"\"--- Starting optimized process... ---\"\"\")\n",
        "\n",
        "!{command}\n",
        "\n",
        "gc.collect()\n",
        "print(\"\"\"--- Process finished! ---\"\"\")\n",
        "\n",
        "if os.path.exists(\"output.mp4\"):\n",
        "    print(\"\"\"✅ Success! Downloading the final video...\"\"\")\n",
        "    files.download(\"output.mp4\")\n",
        "else:\n",
        "    print(\"\"\"❌ Output file 'output.mp4' not found. Did the process run correctly?\"\"\")"
      ],
      "metadata": {
        "cellView": "form",
        "id": "oAOtoOCB1qnl"
      },
      "execution_count": null,
      "outputs": []
    }
  ],
  "metadata": {
    "accelerator": "GPU",
    "colab": {
      "provenance": [],
      "gpuType": "T4"
    },
    "kernelspec": {
      "display_name": "Python 3",
      "name": "python3"
    },
    "language_info": {
      "name": "python"
    }
  },
  "nbformat": 4,
  "nbformat_minor": 0
}